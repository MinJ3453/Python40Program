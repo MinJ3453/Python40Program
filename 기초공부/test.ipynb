{
 "cells": [
  {
   "cell_type": "code",
   "execution_count": 50,
   "metadata": {},
   "outputs": [
    {
     "name": "stdout",
     "output_type": "stream",
     "text": [
      "ㄴㅇㅁㅇㄴㅁㅇㄴㅁ\n"
     ]
    }
   ],
   "source": [
    "a= input(\"값을 입력해 주세요\")\n",
    "b= input(\"값을 입력해 주세요\")\n",
    "\n",
    "print( a + b )"
   ]
  },
  {
   "cell_type": "code",
   "execution_count": 51,
   "metadata": {},
   "outputs": [
    {
     "name": "stdout",
     "output_type": "stream",
     "text": [
      "<class 'bool'>\n",
      "0\n"
     ]
    }
   ],
   "source": [
    "a_bool =True\n",
    "a_int=0\n",
    "print(type(a_bool))\n",
    "print(a_int)"
   ]
  },
  {
   "cell_type": "code",
   "execution_count": 52,
   "metadata": {},
   "outputs": [
    {
     "name": "stdout",
     "output_type": "stream",
     "text": [
      "안녕20\n"
     ]
    }
   ],
   "source": [
    "a=10\n",
    "b='10'\n",
    "\n",
    "print( '안녕'+str(a + int(b)) )"
   ]
  },
  {
   "cell_type": "code",
   "execution_count": 53,
   "metadata": {},
   "outputs": [
    {
     "name": "stdout",
     "output_type": "stream",
     "text": [
      "[1, 2, 3, 4]\n",
      "1\n",
      "[1, 2]\n",
      "[3, 4, 7]\n"
     ]
    }
   ],
   "source": [
    "a_list =[1,2,3,4]\n",
    "print(a_list)\n",
    "print(a_list[0])\n",
    "print(a_list[:2])\n",
    "a_list.append(7)\n",
    "print(a_list[2:])"
   ]
  },
  {
   "cell_type": "code",
   "execution_count": 54,
   "metadata": {},
   "outputs": [
    {
     "name": "stdout",
     "output_type": "stream",
     "text": [
      "(1, 2, 3, 4)\n"
     ]
    }
   ],
   "source": [
    "a_tuple = (1,2,3,4)\n",
    "print(a_tuple)"
   ]
  },
  {
   "cell_type": "code",
   "execution_count": 55,
   "metadata": {},
   "outputs": [
    {
     "name": "stdout",
     "output_type": "stream",
     "text": [
      "{'a': 1, 'b': 2, 'c': 3}\n",
      "2\n"
     ]
    }
   ],
   "source": [
    "a_dic = {'a':1, 'b':2, 'c':3}\n",
    "print(a_dic)\n",
    "print(a_dic['b'])"
   ]
  },
  {
   "cell_type": "code",
   "execution_count": 56,
   "metadata": {},
   "outputs": [
    {
     "name": "stdout",
     "output_type": "stream",
     "text": [
      "{1, 2, 3, 4, 5}\n"
     ]
    }
   ],
   "source": [
    "b_set = set([1,1,2,2,2,3,4,5,5])\n",
    "print(b_set)"
   ]
  },
  {
   "cell_type": "code",
   "execution_count": 57,
   "metadata": {},
   "outputs": [
    {
     "name": "stdout",
     "output_type": "stream",
     "text": [
      "True\n"
     ]
    }
   ],
   "source": [
    "a_list = ['a',2,'hello',3]\n",
    "print('a' in a_list)"
   ]
  },
  {
   "cell_type": "code",
   "execution_count": 58,
   "metadata": {},
   "outputs": [
    {
     "name": "stdout",
     "output_type": "stream",
     "text": [
      "0\n",
      "1\n",
      "2\n",
      "3\n",
      "4\n",
      "5\n",
      "6\n",
      "----------------\n",
      "5\n",
      "6\n",
      "7\n",
      "8\n",
      "9\n"
     ]
    }
   ],
   "source": [
    "for i in range(7):\n",
    "    print(i)\n",
    "print('----------------')\n",
    "for i in range(5,10):\n",
    "    print(i)"
   ]
  },
  {
   "cell_type": "code",
   "execution_count": 59,
   "metadata": {},
   "outputs": [
    {
     "name": "stdout",
     "output_type": "stream",
     "text": [
      "10\n",
      "9\n",
      "8\n",
      "7\n",
      "6\n"
     ]
    }
   ],
   "source": [
    "for i in range(10,5,-1):\n",
    "    print(i)"
   ]
  },
  {
   "cell_type": "code",
   "execution_count": 60,
   "metadata": {},
   "outputs": [
    {
     "name": "stdout",
     "output_type": "stream",
     "text": [
      "h\n",
      "e\n",
      "l\n",
      "l\n",
      "o\n",
      " \n",
      "p\n",
      "y\n",
      "t\n",
      "h\n",
      "o\n",
      "n\n"
     ]
    }
   ],
   "source": [
    "a_str =\"hello python\"\n",
    "for i in a_str:\n",
    "    print(i)"
   ]
  },
  {
   "cell_type": "code",
   "execution_count": 61,
   "metadata": {},
   "outputs": [
    {
     "name": "stdout",
     "output_type": "stream",
     "text": [
      "i= 0 and k= 홍길동\n",
      "i= 1 and k= 장다인\n",
      "i= 2 and k= 김철수\n"
     ]
    }
   ],
   "source": [
    "name_list = [\"홍길동\",\"장다인\",\"김철수\"]\n",
    "age_list = [500,5,12]\n",
    "for i,k in enumerate(name_list):\n",
    "    print(\"i=\",i,end=' and ')\n",
    "    print(\"k=\",k)"
   ]
  },
  {
   "cell_type": "code",
   "execution_count": 62,
   "metadata": {},
   "outputs": [
    {
     "name": "stdout",
     "output_type": "stream",
     "text": [
      "이름= 홍길동 and 나이= 500\n",
      "이름= 장다인 and 나이= 5\n",
      "이름= 김철수 and 나이= 12\n"
     ]
    }
   ],
   "source": [
    "name_list = [\"홍길동\",\"장다인\",\"김철수\"]\n",
    "age_list = [500,5,12]\n",
    "for i,k in enumerate(name_list):\n",
    "    print(\"이름=\",k,end=' and ')\n",
    "    print(\"나이=\",age_list[i])"
   ]
  },
  {
   "cell_type": "code",
   "execution_count": 63,
   "metadata": {},
   "outputs": [
    {
     "name": "stdout",
     "output_type": "stream",
     "text": [
      "[0, 1, 2, 3, 4, 5, 6, 7, 8, 9]\n",
      "[0, 1, 2, 3, 4, 5, 6, 7, 8, 9]\n"
     ]
    }
   ],
   "source": [
    "test_list=[i for i in range(10)]\n",
    "print(test_list)\n",
    "\n",
    "test2_list=[]\n",
    "for i in range(10):\n",
    "    test2_list.append(i)\n",
    "print(test2_list)"
   ]
  },
  {
   "cell_type": "code",
   "execution_count": 64,
   "metadata": {},
   "outputs": [
    {
     "name": "stdout",
     "output_type": "stream",
     "text": [
      "[0, 5, 10, 15, 20, 25, 30, 35, 40, 45]\n",
      "[0, 0, 0, 0, 0, 0, 0, 0, 0, 0]\n"
     ]
    }
   ],
   "source": [
    "test_list=[i * 5 for i in range(10)]\n",
    "print(test_list)\n",
    "\n",
    "test_list2=[0 for i in range(10)]\n",
    "print(test_list2)"
   ]
  },
  {
   "cell_type": "code",
   "execution_count": 65,
   "metadata": {},
   "outputs": [
    {
     "name": "stdout",
     "output_type": "stream",
     "text": [
      "0\n",
      "1\n",
      "2\n",
      "3\n",
      "4\n"
     ]
    }
   ],
   "source": [
    "a=0\n",
    "while True:\n",
    "    print(a)\n",
    "    a= a+1\n",
    "    if a>= 5:\n",
    "        break"
   ]
  },
  {
   "cell_type": "code",
   "execution_count": 66,
   "metadata": {},
   "outputs": [
    {
     "name": "stdout",
     "output_type": "stream",
     "text": [
      "에러를 무시했습니다\n"
     ]
    }
   ],
   "source": [
    "\n",
    "try:\n",
    "    어쩔티비\n",
    "except:\n",
    "    pass\n",
    "print(\"에러를 무시했습니다\")"
   ]
  },
  {
   "cell_type": "code",
   "execution_count": 67,
   "metadata": {},
   "outputs": [
    {
     "name": "stdout",
     "output_type": "stream",
     "text": [
      "에러 원인: name '어쩔티비' is not defined\n"
     ]
    }
   ],
   "source": [
    "try:\n",
    "    어쩔티비\n",
    "except Exception as e:\n",
    "    print(\"에러 원인:\",e)\n"
   ]
  },
  {
   "cell_type": "code",
   "execution_count": 68,
   "metadata": {},
   "outputs": [
    {
     "name": "stdout",
     "output_type": "stream",
     "text": [
      "안녕하세요\n"
     ]
    }
   ],
   "source": [
    "def func():\n",
    "    print(\"안녕하세요\")\n",
    "func()"
   ]
  },
  {
   "cell_type": "code",
   "execution_count": 69,
   "metadata": {},
   "outputs": [
    {
     "name": "stdout",
     "output_type": "stream",
     "text": [
      "3\n"
     ]
    }
   ],
   "source": [
    "def funcAdd(a,b):\n",
    "    return a+b\n",
    "c = funcAdd(1,2)\n",
    "print(c)"
   ]
  },
  {
   "cell_type": "code",
   "execution_count": 71,
   "metadata": {},
   "outputs": [
    {
     "name": "stdout",
     "output_type": "stream",
     "text": [
      "4 3\n",
      "3\n"
     ]
    }
   ],
   "source": [
    "def funAddMux(a,b):\n",
    "    add= a + b\n",
    "    mux= a * b\n",
    "    return add,mux\n",
    "a,b= funAddMux(1,3)\n",
    "print(a,b)\n",
    "\n",
    "def funAddMux(a,b):\n",
    "    add= a + b\n",
    "    mux= a * b\n",
    "    return add,mux\n",
    "_,b= funAddMux(1,3)\n",
    "print(b)"
   ]
  },
  {
   "cell_type": "code",
   "execution_count": 72,
   "metadata": {},
   "outputs": [
    {
     "name": "stdout",
     "output_type": "stream",
     "text": [
      "hello\n",
      "hi\n",
      "hello\n",
      "hi\n"
     ]
    }
   ],
   "source": [
    "class Greet():\n",
    "    def hello(self):\n",
    "        print(\"hello\")\n",
    "    def hi(self):\n",
    "        print(\"hi\")\n",
    "human1 = Greet()\n",
    "human2 = Greet()\n",
    "human1.hello()\n",
    "human1.hi()\n",
    "human2.hello()\n",
    "human2.hi()"
   ]
  },
  {
   "cell_type": "code",
   "execution_count": 75,
   "metadata": {},
   "outputs": [
    {
     "name": "stdout",
     "output_type": "stream",
     "text": [
      "이름:김철수,나이:17,취미:축구\n",
      "이름:장다인,나이:5,취미:또봇\n"
     ]
    }
   ],
   "source": [
    "class Student():\n",
    "    def __init__(self,name,age,like):\n",
    "        self.name = name\n",
    "        self.age = age\n",
    "        self.like = like\n",
    "    def studentInfo(self):\n",
    "        print(f\"이름:{self.name},나이:{self.age},취미:{self.like}\")\n",
    "김철수 = Student(\"김철수\",17,\"축구\")\n",
    "장다인 = Student(\"장다인\",5,\"또봇\")\n",
    "김철수.studentInfo()\n",
    "장다인.studentInfo()"
   ]
  },
  {
   "cell_type": "code",
   "execution_count": 77,
   "metadata": {},
   "outputs": [
    {
     "name": "stdout",
     "output_type": "stream",
     "text": [
      "엄마는\n",
      "키가 크다\n",
      "공부를 잘한다\n",
      "딸은\n",
      "키가 크다\n",
      "공부를 잘한다\n",
      "운동을 잘한다\n"
     ]
    }
   ],
   "source": [
    "class Mother():\n",
    "    def __init__(self):\n",
    "        print(\"키가 크다\")\n",
    "        print(\"공부를 잘한다\")\n",
    "class Daughter(Mother):\n",
    "    def __init__(self):\n",
    "        super().__init__()\n",
    "        print(\"운동을 잘한다\")\n",
    "print(\"엄마는\")\n",
    "엄마 = Mother()\n",
    "print(\"딸은\")\n",
    "딸 = Daughter()"
   ]
  },
  {
   "cell_type": "code",
   "execution_count": 79,
   "metadata": {},
   "outputs": [
    {
     "name": "stdout",
     "output_type": "stream",
     "text": [
      "38\n"
     ]
    }
   ],
   "source": [
    "import random as rd\n",
    "print(rd.randint(1,100))"
   ]
  },
  {
   "cell_type": "code",
   "execution_count": 80,
   "metadata": {},
   "outputs": [
    {
     "name": "stdout",
     "output_type": "stream",
     "text": [
      "5\n"
     ]
    }
   ],
   "source": [
    "from random import randint\n",
    "print(randint(1,100))"
   ]
  }
 ],
 "metadata": {
  "interpreter": {
   "hash": "834742ed4bfba148bf4ce115e97276c6393d0fa4f0a042ca60ca15311c7a1489"
  },
  "kernelspec": {
   "display_name": "Python 3.9.12 ('base')",
   "language": "python",
   "name": "python3"
  },
  "language_info": {
   "codemirror_mode": {
    "name": "ipython",
    "version": 3
   },
   "file_extension": ".py",
   "mimetype": "text/x-python",
   "name": "python",
   "nbconvert_exporter": "python",
   "pygments_lexer": "ipython3",
   "version": "3.9.12"
  },
  "orig_nbformat": 4
 },
 "nbformat": 4,
 "nbformat_minor": 2
}
